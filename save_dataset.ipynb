{
 "cells": [
  {
   "cell_type": "code",
   "execution_count": 2,
   "id": "cff304f6-9d13-4128-92a6-204077596d07",
   "metadata": {},
   "outputs": [
    {
     "name": "stderr",
     "output_type": "stream",
     "text": [
      "Fetching 69 files: 100%|██████████| 69/69 [05:54<00:00,  5.13s/it] \n"
     ]
    },
    {
     "data": {
      "text/plain": [
       "'/tank/projects/vpalagina_hobotnica/hobotnica'"
      ]
     },
     "execution_count": 2,
     "metadata": {},
     "output_type": "execute_result"
    }
   ],
   "source": [
    "from huggingface_hub import snapshot_download\n",
    "snapshot_download(\n",
    "    repo_id='computage/computage_bench',\n",
    "    repo_type=\"dataset\",\n",
    "    local_dir='.') #download whole folder\n",
    "#     allow_patterns=[\"*GSE72774*\"])"
   ]
  },
  {
   "cell_type": "code",
   "execution_count": 1,
   "id": "6f806b9b",
   "metadata": {},
   "outputs": [
    {
     "name": "stderr",
     "output_type": "stream",
     "text": [
      "/tank/projects/vpalagina_hobotnica/hobotnica/.conda/lib/python3.10/site-packages/tqdm/auto.py:21: TqdmWarning: IProgress not found. Please update jupyter and ipywidgets. See https://ipywidgets.readthedocs.io/en/stable/user_install.html\n",
      "  from .autonotebook import tqdm as notebook_tqdm\n"
     ]
    }
   ],
   "source": [
    "from computage import run_benchmark"
   ]
  }
 ],
 "metadata": {
  "kernelspec": {
   "display_name": "Python 3",
   "language": "python",
   "name": "python3"
  },
  "language_info": {
   "codemirror_mode": {
    "name": "ipython",
    "version": 3
   },
   "file_extension": ".py",
   "mimetype": "text/x-python",
   "name": "python",
   "nbconvert_exporter": "python",
   "pygments_lexer": "ipython3",
   "version": "3.10.14"
  }
 },
 "nbformat": 4,
 "nbformat_minor": 5
}
